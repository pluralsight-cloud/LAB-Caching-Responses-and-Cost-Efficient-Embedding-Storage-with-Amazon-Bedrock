{
 "cells": [
  {
   "cell_type": "markdown",
   "id": "9771e561-a128-40d2-8ce0-a91f356786f7",
   "metadata": {},
   "source": [
    "# Generate Embeddings from Meal Description"
   ]
  },
  {
   "cell_type": "code",
   "execution_count": null,
   "id": "859bafa5-ba1f-49fd-bd9a-099c3df2571c",
   "metadata": {},
   "outputs": [],
   "source": [
    "import boto3, os, json\n",
    "from dotenv import load_dotenv\n",
    "\n",
    "bedrock = boto3.client(\n",
    "    \"bedrock-runtime\",\n",
    "    region_name=\n",
    ")\n",
    "\n",
    "def get_embedding(text):\n",
    "    payload = {\"inputText\": text}\n",
    "    response = bedrock.invoke_model(\n",
    "        modelId=\"amazon.titan-embed-text-v2:0\",\n",
    "        body=json.dumps(payload),\n",
    "        contentType=\"application/json\"\n",
    "    )\n",
    "    result = json.loads(response['body'].read())\n",
    "    return result[\"embedding\"]\n",
    "\n",
    "# Example\n",
    "if __name__ == \"__main__\":\n",
    "    print(get_embedding(\"Grilled chicken salad with avocado and olive oil dressing\"))\n"
   ]
  },
  {
   "cell_type": "markdown",
   "id": "670fa89c-db54-43c4-b0e5-256cde8e98b6",
   "metadata": {},
   "source": [
    "## Store in Memory"
   ]
  },
  {
   "cell_type": "code",
   "execution_count": null,
   "id": "e83e1937-cc9b-4c7d-8a18-bc1212bc2d02",
   "metadata": {},
   "outputs": [],
   "source": [
    "from generate_embeddings import get_embedding\n",
    "\n",
    "meal_store = {}\n",
    "\n",
    "def store_meal(id, description):\n",
    "    vector = get_embedding(description)\n",
    "    meal_store[id] = {\n",
    "        \"description\": description,\n",
    "        \"embedding\": vector\n",
    "    }\n",
    "\n",
    "# Example\n",
    "if __name__ == \"__main__\":\n",
    "    store_meal(\"meal1\", \"Quinoa salad with chickpeas and lemon tahini dressing\")\n",
    "    print(meal_store)"
   ]
  },
  {
   "cell_type": "markdown",
   "id": "8f3fb872-904a-4ad2-b70e-1a4972479d05",
   "metadata": {},
   "source": [
    "## Store in Amazon S3"
   ]
  },
  {
   "cell_type": "code",
   "execution_count": null,
   "id": "088dc818-6fc7-4a65-af4e-218e464b515f",
   "metadata": {},
   "outputs": [],
   "source": [
    "import boto3, json, os\n",
    "from dotenv import load_dotenv\n",
    "from generate_embeddings import get_embedding\n",
    "\n",
    "load_dotenv()\n",
    "\n",
    "s3 = boto3.client(\n",
    "    \"s3\",\n",
    "    region_name=os.getenv(\"AWS_DEFAULT_REGION\"),\n",
    "    aws_access_key_id=os.getenv(\"AWS_ACCESS_KEY_ID\"),\n",
    "    aws_secret_access_key=os.getenv(\"AWS_SECRET_ACCESS_KEY\")\n",
    ")\n",
    "\n",
    "BUCKET = \"your-meal-embedding-bucket\"\n",
    "\n",
    "def store_meal_s3(id, description):\n",
    "    embedding = get_embedding(description)\n",
    "    body = json.dumps({\"description\": description, \"embedding\": embedding})\n",
    "    s3.put_object(Bucket=BUCKET, Key=f\"meals/{id}.json\", Body=body)\n",
    "\n",
    "# Example\n",
    "if __name__ == \"__main__\":\n",
    "    store_meal_s3(\"meal2\", \"Grilled salmon with steamed broccoli and almonds\")\n"
   ]
  },
  {
   "cell_type": "markdown",
   "id": "58d0b662-8860-4693-aaa4-3749d9568b8b",
   "metadata": {},
   "source": [
    "## Store in FAISS and Search by Nutritional Similarity"
   ]
  },
  {
   "cell_type": "code",
   "execution_count": null,
   "id": "f80c53a5-e753-4d20-9c7c-69302c024e7b",
   "metadata": {},
   "outputs": [],
   "source": [
    "import faiss\n",
    "import numpy as np\n",
    "from generate_embeddings import get_embedding\n",
    "\n",
    "index = faiss.IndexFlatL2(1536)  # Titan V2 = 1536 dims\n",
    "meal_ids = {}\n",
    "\n",
    "def add_meal(id, description):\n",
    "    vector = np.array([get_embedding(description)], dtype=\"float32\")\n",
    "    index.add(vector)\n",
    "    meal_ids[index.ntotal - 1] = (id, description)\n",
    "\n",
    "def search_similar_meals(query, top_k=3):\n",
    "    q_vector = np.array([get_embedding(query)], dtype=\"float32\")\n",
    "    D, I = index.search(q_vector, top_k)\n",
    "    return [meal_ids.get(i) for i in I[0]]\n",
    "\n",
    "# Example\n",
    "if __name__ == \"__main__\":\n",
    "    add_meal(\"meal1\", \"Greek yogurt bowl with walnuts and honey\")\n",
    "    add_meal(\"meal2\", \"Boiled eggs with spinach and mushrooms\")\n",
    "    add_meal(\"meal3\", \"Avocado toast on rye bread with poached egg\")\n",
    "\n",
    "    print(search_similar_meals(\"High-protein vegetarian breakfast\"))\n"
   ]
  },
  {
   "cell_type": "markdown",
   "id": "b1f6b021-d0f6-457e-9460-a66c4dc86ddd",
   "metadata": {},
   "source": [
    "## Store in OpenSearch Serverless (Scalable, Searchable)"
   ]
  },
  {
   "cell_type": "code",
   "execution_count": null,
   "id": "aada2d40-3535-4b7a-a09c-45483241b743",
   "metadata": {},
   "outputs": [],
   "source": [
    "def store_in_opensearch(id, text):\n",
    "    vec = get_embedding(text)\n",
    "    opensearch.index(index=\"text-embeddings\", id=id, body={\"text\": text, \"embedding\": vec})\n",
    "\n",
    "def search_opensearch(query, k=3):\n",
    "    vec = get_embedding(query)\n",
    "    query_body = {\n",
    "        \"size\": k,\n",
    "        \"knn\": {\n",
    "            \"embedding\": {\n",
    "                \"vector\": vec,\n",
    "                \"k\": k\n",
    "            }\n",
    "        }\n",
    "    }\n",
    "    response = opensearch.search(index=\"text-embeddings\", body=query_body)\n",
    "    return [(hit[\"_id\"], hit[\"_source\"][\"text\"]) for hit in response[\"hits\"][\"hits\"]]"
   ]
  },
  {
   "cell_type": "markdown",
   "id": "db69a644-addc-4aff-ab95-521a159b622f",
   "metadata": {},
   "source": [
    "## Store in PostgreSQL DB with pgvector Vector Extension"
   ]
  },
  {
   "cell_type": "code",
   "execution_count": null,
   "id": "3f6f352b-91cc-4d3e-95fd-d6b6f8581aab",
   "metadata": {},
   "outputs": [],
   "source": [
    "import psycopg2\n",
    "\n",
    "conn = psycopg2.connect(\n",
    "    host=\"your-db-endpoint\",\n",
    "    user=\"postgres\",\n",
    "    password=\"yourpass\",\n",
    "    dbname=\"postgres\"\n",
    ")\n",
    "\n",
    "cur = conn.cursor()\n",
    "\n",
    "text = \"Lentils are rich in protein and ideal for plant-based diets.\"\n",
    "embedding = get_embedding(text)\n",
    "\n",
    "cur.execute(\"\"\"\n",
    "    INSERT INTO nutrition_embeddings (id, content, embedding)\n",
    "    VALUES (%s, %s, %s)\n",
    "    ON CONFLICT (id) DO NOTHING\n",
    "\"\"\", (\"lentils-001\", text, embedding))\n",
    "conn.commit()\n",
    "\n",
    "# Search\n",
    "search_vector = get_embedding(\"What are good vegan proteins?\")\n",
    "cur.execute(\"\"\"\n",
    "    SELECT content FROM nutrition_embeddings\n",
    "    ORDER BY embedding <-> %s\n",
    "    LIMIT 1\n",
    "\"\"\", (search_vector,))\n",
    "print(\"Match:\", cur.fetchone()[0])\n"
   ]
  },
  {
   "cell_type": "markdown",
   "id": "fc16a3ad-49d2-4919-aaa6-7ae3c96b6b13",
   "metadata": {},
   "source": [
    "## Let’s walk through a sample:"
   ]
  },
  {
   "cell_type": "code",
   "execution_count": null,
   "id": "32421b78-e226-488c-8df0-424b115df1d0",
   "metadata": {},
   "outputs": [],
   "source": [
    "store_in_memory(\"m1\", \"Greek yogurt with chia seeds and honey\")\n",
    "store_in_s3(\"m2\", \"Boiled eggs with spinach and mushrooms\")\n",
    "store_in_faiss(\"m3\", \"Avocado toast with poached egg\")\n",
    "store_in_opensearch(\"m4\", \"Protein shake with almond butter and banana\")\n",
    "\n",
    "print(search_faiss(\"High-protein vegetarian breakfast\"))\n",
    "print(search_opensearch(\"High-protein vegetarian breakfast\"))\n"
   ]
  }
 ],
 "metadata": {
  "kernelspec": {
   "display_name": "Python 3 (ipykernel)",
   "language": "python",
   "name": "python3"
  },
  "language_info": {
   "codemirror_mode": {
    "name": "ipython",
    "version": 3
   },
   "file_extension": ".py",
   "mimetype": "text/x-python",
   "name": "python",
   "nbconvert_exporter": "python",
   "pygments_lexer": "ipython3",
   "version": "3.13.3"
  }
 },
 "nbformat": 4,
 "nbformat_minor": 5
}
