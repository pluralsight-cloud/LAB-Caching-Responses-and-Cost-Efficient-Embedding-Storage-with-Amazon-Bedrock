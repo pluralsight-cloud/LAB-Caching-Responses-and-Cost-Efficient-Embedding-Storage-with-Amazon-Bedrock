{
 "cells": [
  {
   "cell_type": "markdown",
   "id": "bcb296e7-e73d-4f87-b8a0-d24ee2386143",
   "metadata": {
    "editable": true,
    "slideshow": {
     "slide_type": ""
    },
    "tags": []
   },
   "source": [
    "# Caching Responses and Cost-efficient Embedding Storage with Amazon Bedrock"
   ]
  },
  {
   "cell_type": "markdown",
   "id": "a6e9b917-3d88-48ae-bdbf-15ba3eeed506",
   "metadata": {},
   "source": [
    "## Objective One: Set up a Simple Bedrock Model Invocation"
   ]
  },
  {
   "cell_type": "markdown",
   "id": "db3aedfc-5307-475e-be03-8e252e644bcd",
   "metadata": {},
   "source": [
    "In this hands-on walkthrough, you’ll use the `boto3 Python SDK` to interact with `Amazon Bedrock`. You’ll start by installing the required dependencies, then set up the `Bedrock` client. Once that’s done, you’ll make a simple model invocation and display the results right in the notebook."
   ]
  },
  {
   "cell_type": "markdown",
   "id": "71363126-714c-4b93-9e2e-ba579705e676",
   "metadata": {},
   "source": [
    "### 1. Installing Packages for Amazon Bedrock Access"
   ]
  },
  {
   "cell_type": "markdown",
   "id": "a8cc4904-c309-4335-b978-fa2e107b59db",
   "metadata": {},
   "source": [
    "This step involves upgrading two key AWS-related `Python` packages quietly to ensure you have the latest features, bug fixes, and security improvements that keep your interaction with AWS services smooth and reliable.\n",
    "\n",
    "- **`botocore`**: This is a low-level foundational library used by AWS SDKs for `Python` to interact with AWS services.\n",
    "- **`boto3`**: This is the official AWS SDK for `Python`, built on top of botocore.\n",
    "\n",
    "While upgrading, you might see some `pip` dependency warnings. These can be safely ignored as they won’t impact the steps we’re performing here."
   ]
  },
  {
   "cell_type": "code",
   "execution_count": null,
   "id": "23c64c27-ed63-4183-b482-13ed8153b302",
   "metadata": {
    "tags": []
   },
   "outputs": [],
   "source": [
    "print(\"✅ Please wait while the installation completes. This may take a few \"\n",
    "      \"minutes. If you encounter any dependency errors, you can ignore them.\")\n",
    "%pip install --upgrade -q botocore\n",
    "%pip install --upgrade -q boto3\n",
    "print(\"✅ Installation completed! Continue to next step to restart the kernel.\")"
   ]
  },
  {
   "cell_type": "markdown",
   "id": "bae777e8-3c3e-4696-8f41-977fc43fcfdf",
   "metadata": {},
   "source": [
    "### 2. Restart Kernel and Load Libraries"
   ]
  },
  {
   "cell_type": "markdown",
   "id": "ee887779-74c7-47f9-abb6-1a7265d80802",
   "metadata": {},
   "source": [
    "The following code automatically restarts the `Jupyter` notebook kernel to clear the environment. This is useful after installing or upgrading packages to make sure all changes are applied correctly."
   ]
  },
  {
   "cell_type": "code",
   "execution_count": null,
   "id": "b5d6e895-d8e6-47d5-b3fb-6b32aeac3991",
   "metadata": {
    "tags": []
   },
   "outputs": [],
   "source": [
    "from IPython.core.display import HTML\n",
    "from IPython.display import display\n",
    "\n",
    "try:\n",
    "    display(HTML(\"<script>Jupyter.notebook.kernel.restart()</script>\"))\n",
    "    print(\"✅ Kernel restarted successfully\")\n",
    "except Exception as e:\n",
    "    print(\"❌ Failed to restart the kernel\")\n",
    "    print(f\"Error: {e}\")"
   ]
  },
  {
   "cell_type": "markdown",
   "id": "3a679b88-d87b-48f3-a2da-3228fce850f2",
   "metadata": {},
   "source": [
    "In this step, you import `boto3` to interact with AWS services programmatically and `json` to handle `JSON` data formatting for requests and responses. `boto3` is built on top of `botocore`, so when you import and use `boto3`, it automatically uses `botocore` behind the scenes."
   ]
  },
  {
   "cell_type": "code",
   "execution_count": null,
   "id": "9fbd96f9-07ba-472c-9840-78e9265078a7",
   "metadata": {
    "tags": []
   },
   "outputs": [],
   "source": [
    "try:\n",
    "    import boto3\n",
    "    import json\n",
    "    print(\"----------------------------\")\n",
    "    print(\"✅ Libraries loaded successfully.\")\n",
    "except ImportError as e:\n",
    "    print(\"----------------------------\")\n",
    "    print(\"❌ Failed to load libraries.\")\n",
    "    print(f\"Error: {e}\")"
   ]
  },
  {
   "cell_type": "markdown",
   "id": "9a9f698c-dfe0-48e3-a68b-4ec31bfd4489",
   "metadata": {},
   "source": [
    "### 3. Initialize the Bedrock Client"
   ]
  },
  {
   "cell_type": "markdown",
   "id": "3d5116e5-0d96-4e7c-9eab-406e304a4a7b",
   "metadata": {},
   "source": [
    "In this step, you create a `Bedrock` client using `boto3`. This client lets you interact with the `Amazon Bedrock` service by specifying the service name and a supported AWS region."
   ]
  },
  {
   "cell_type": "code",
   "execution_count": null,
   "id": "16a36183-ee99-4fe8-a655-a0f5ece1c9fa",
   "metadata": {
    "tags": []
   },
   "outputs": [],
   "source": [
    "print(\"----------------------------\")\n",
    "try:\n",
    "    client = boto3.client(\n",
    "        service_name=\"bedrock-runtime\",\n",
    "        region_name=\"us-east-1\"\n",
    "    )\n",
    "    print(\"✅ bedrock-runtime client initialized successfully.\")\n",
    "except Exception as e:\n",
    "    print(\"❌ Failed to initialize bedrock-runtime client.\")\n",
    "    print(f\"Error: {e}\")"
   ]
  },
  {
   "cell_type": "markdown",
   "id": "a1f32e0b-389e-4445-9dc0-70445944dae4",
   "metadata": {},
   "source": [
    "### 4. Load Document from File"
   ]
  },
  {
   "cell_type": "markdown",
   "id": "e97c6b13-c212-4875-9544-af45b7dc4e3c",
   "metadata": {},
   "source": [
    "In this step, the content of a sample privacy statement file named `privacy_statement.txt` is loaded from the local file system and stored in a variable. This content will be used throughout the exercise to simulate user queries and test how the model responds to questions about the document."
   ]
  },
  {
   "cell_type": "code",
   "execution_count": null,
   "id": "57d6f421-72a6-468c-b465-525e1f043039",
   "metadata": {
    "tags": []
   },
   "outputs": [],
   "source": [
    "def read_privacy_statement(file_path):\n",
    "    try:\n",
    "        with open(file_path, 'r', encoding='utf-8') as file:\n",
    "            print(\"✅ Privacy statement file loaded successfully.\")\n",
    "            return file.read()\n",
    "    except FileNotFoundError:\n",
    "        print(\"❌ File not found. Please check the file path.\")\n",
    "    except Exception as e:\n",
    "        print(\"❌ Failed to read privacy statement file.\")\n",
    "        print(f\"Error: {e}\")\n",
    "    return None  # return None if read fails\n",
    "\n",
    "privacy_text = read_privacy_statement('privacy_statement.txt')"
   ]
  },
  {
   "cell_type": "markdown",
   "id": "218f1ad3-1a1d-4d08-aad4-1fdc63d85c69",
   "metadata": {},
   "source": [
    "### 5. Construct Prompt for Model Invocation"
   ]
  },
  {
   "cell_type": "markdown",
   "id": "d892c983-898b-499b-b371-c2f2c3373eb1",
   "metadata": {},
   "source": [
    "In this step, a prompt is created by combining a user question with the full privacy statement text. This combined prompt will be passed to the model in the next step."
   ]
  },
  {
   "cell_type": "code",
   "execution_count": null,
   "id": "26baf8f5-da3a-4825-8fbb-bfce158762d5",
   "metadata": {
    "tags": []
   },
   "outputs": [],
   "source": [
    "prompt = (\n",
    "    \"How is my information used according to your privacy statement? \"\n",
    "    + privacy_text\n",
    ")\n",
    "print(\"✅ Prompt built successfully\")"
   ]
  },
  {
   "cell_type": "markdown",
   "id": "a8a4f071-c41a-4e39-933b-0748ae86e2ef",
   "metadata": {},
   "source": [
    "### 6. Define the Request Body for the Bedrock API"
   ]
  },
  {
   "cell_type": "markdown",
   "id": "da97d480-17b8-43ce-9b8a-9dbdbd9fc842",
   "metadata": {},
   "source": [
    "This step builds the request payload used to invoke the model through the `Bedrock` API. It includes the API version, the maximum number of tokens to return in the response, and a message block following the chat format. The user’s prompt, combined with the privacy statement, is included as the message content."
   ]
  },
  {
   "cell_type": "code",
   "execution_count": null,
   "id": "18d008a0-c5cf-41e3-994c-736e6eb1e093",
   "metadata": {
    "tags": []
   },
   "outputs": [],
   "source": [
    "messages_API_body = {\n",
    "    \"anthropic_version\": \"bedrock-2023-05-31\",\n",
    "    \"max_tokens\": 4096,\n",
    "    \"messages\": [\n",
    "        {\n",
    "            \"role\": \"user\",\n",
    "            \"content\": [\n",
    "                {\n",
    "                    \"type\": \"text\",\n",
    "                    \"text\": prompt\n",
    "                },\n",
    "            ]\n",
    "        }\n",
    "    ]\n",
    "}\n",
    "\n",
    "print(\"✅ Message payload constructed successfully.\")"
   ]
  },
  {
   "cell_type": "markdown",
   "id": "7b2aa2f7-faba-4593-a95c-8c4b168412d6",
   "metadata": {},
   "source": [
    "### 7. Invoke the Model Using the Bedrock Client"
   ]
  },
  {
   "cell_type": "markdown",
   "id": "d256df36-8399-4c45-97d9-3c631a775865",
   "metadata": {},
   "source": [
    "This step sends the request to `Amazon Bedrock` to invoke the `Claude 3.5 Haiku` model. It passes the request body and sets the necessary headers. The model's response is stored for further use."
   ]
  },
  {
   "cell_type": "code",
   "execution_count": null,
   "id": "d3e4e0f6-6426-4d8d-a556-e102c3553e3e",
   "metadata": {
    "tags": []
   },
   "outputs": [],
   "source": [
    "try:\n",
    "    response = client.invoke_model(\n",
    "        body=json.dumps(messages_API_body),\n",
    "        modelId=\"anthropic.claude-3-haiku-20240307-v1:0\",\n",
    "        accept=\"application/json\",\n",
    "        contentType=\"application/json\"\n",
    "    )\n",
    "    print(\"✅ Model invoked successfully.\")\n",
    "except Exception as e:\n",
    "    print(\"❌ Failed to invoke model.\")\n",
    "    print(f\"Error: {e}\")"
   ]
  },
  {
   "cell_type": "markdown",
   "id": "5a990141-2977-4d62-8727-2ddcde70fedf",
   "metadata": {},
   "source": [
    "### 8. Extract and Display the Model Response"
   ]
  },
  {
   "cell_type": "markdown",
   "id": "4fba5c0e-1bf0-4acc-8e34-d476acd3cf35",
   "metadata": {},
   "source": [
    "This step parses the model's response to extract the generated text. It then prints the model's answer to the user's question. Each time the model is invoked, an inference is performed, which incurs inference costs based on the number of tokens processed."
   ]
  },
  {
   "cell_type": "code",
   "execution_count": null,
   "id": "53a71f3d-9a55-4116-bf2e-075ba75e8a78",
   "metadata": {
    "tags": []
   },
   "outputs": [],
   "source": [
    "try:\n",
    "    response_body = json.loads(response.get(\"body\").read())\n",
    "    text = response_body[\"content\"][0][\"text\"]\n",
    "    print(\"✅ Successfully extracted text from response:\")\n",
    "    print()\n",
    "    print(text)\n",
    "except Exception as e:\n",
    "    print(\"❌ Failed to parse response or extract text.\")\n",
    "    print(f\"Error: {e}\")"
   ]
  },
  {
   "cell_type": "markdown",
   "id": "aabfeaff",
   "metadata": {},
   "source": [
    "Congratulations! You have successfully completed objective one **Set up a Simple Bedrock Model Invocation**. You can now close the `objective_one.ipynb` file"
   ]
  }
 ],
 "metadata": {
  "kernelspec": {
   "display_name": "conda_pytorch_p310",
   "language": "python",
   "name": "conda_pytorch_p310"
  },
  "language_info": {
   "codemirror_mode": {
    "name": "ipython",
    "version": 3
   },
   "file_extension": ".py",
   "mimetype": "text/x-python",
   "name": "python",
   "nbconvert_exporter": "python",
   "pygments_lexer": "ipython3",
   "version": "3.10.14"
  },
  "toc": {
   "base_numbering": 0
  }
 },
 "nbformat": 4,
 "nbformat_minor": 5
}
