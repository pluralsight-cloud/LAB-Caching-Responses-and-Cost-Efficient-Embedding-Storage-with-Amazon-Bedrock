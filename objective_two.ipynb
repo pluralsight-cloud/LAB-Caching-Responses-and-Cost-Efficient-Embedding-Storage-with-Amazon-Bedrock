{
 "cells": [
  {
   "cell_type": "markdown",
   "id": "bcb296e7-e73d-4f87-b8a0-d24ee2386143",
   "metadata": {
    "editable": true,
    "slideshow": {
     "slide_type": ""
    },
    "tags": []
   },
   "source": [
    "# Caching Responses and Cost-efficient Embedding Storage with Amazon Bedrock"
   ]
  },
  {
   "cell_type": "markdown",
   "id": "a6e9b917-3d88-48ae-bdbf-15ba3eeed506",
   "metadata": {},
   "source": [
    "## Objective Three: Implement Response Caching to Reduce Costs"
   ]
  },
  {
   "cell_type": "markdown",
   "id": "db3aedfc-5307-475e-be03-8e252e644bcd",
   "metadata": {},
   "source": [
    "In this hands-on walkthrough, you’ll use the boto3 Python SDK to interact with Amazon Bedrock, installing the required dependencies and setting up the Bedrock client. Once that’s done, you’ll craft a prompt to ensure that cache checkpoints are created and then you will perform a model invocation using the initialized bedrock client to validate if cache checkpoints are created and if you have a cache hit, reducing inference costs."
   ]
  },
  {
   "cell_type": "markdown",
   "id": "71363126-714c-4b93-9e2e-ba579705e676",
   "metadata": {},
   "source": [
    "### 1. Installing Packages for Amazon Bedrock Access"
   ]
  },
  {
   "cell_type": "markdown",
   "id": "a8cc4904-c309-4335-b978-fa2e107b59db",
   "metadata": {},
   "source": [
    "This step quietly upgrades two essential AWS-related Python packages to ensure you're using the latest features, bug fixes, and security updates—helping maintain smooth and reliable interactions with AWS services:\n",
    "\n",
    "- **botocore**: This is a low-level foundational library used by AWS SDKs for Python to interact with AWS services.\n",
    "- **boto3**: This is the official AWS SDK for Python, built on top of botocore.\n",
    "\n",
    "While upgrading, you might see some pip dependency warnings. These can be safely ignored as they won’t impact the steps we’re performing here"
   ]
  },
  {
   "cell_type": "code",
   "execution_count": null,
   "id": "23c64c27-ed63-4183-b482-13ed8153b302",
   "metadata": {
    "tags": []
   },
   "outputs": [],
   "source": [
    "%pip install --upgrade -q botocore\n",
    "%pip install --upgrade -q boto3"
   ]
  },
  {
   "cell_type": "markdown",
   "id": "bae777e8-3c3e-4696-8f41-977fc43fcfdf",
   "metadata": {},
   "source": [
    "### 2. Load Libraries and Restart Kernel for Updates to Take Effect"
   ]
  },
  {
   "cell_type": "markdown",
   "id": "3a679b88-d87b-48f3-a2da-3228fce850f2",
   "metadata": {},
   "source": [
    "In this step, you import boto3 to interact with AWS services programmatically, and json to format request and response data. Since boto3 is built on top of botocore, it automatically relies on botocore under the hood when making service calls"
   ]
  },
  {
   "cell_type": "code",
   "execution_count": null,
   "id": "9fbd96f9-07ba-472c-9840-78e9265078a7",
   "metadata": {
    "tags": []
   },
   "outputs": [],
   "source": [
    "try:\n",
    "    import boto3\n",
    "    import json\n",
    "    print(\"----------------------------\")\n",
    "    print(\"✅ Libraries loaded successfully.\")\n",
    "except ImportError as e:\n",
    "    print(\"----------------------------\")\n",
    "    print(\"❌ Failed to load libraries.\")\n",
    "    print(f\"Error: {e}\")"
   ]
  },
  {
   "cell_type": "markdown",
   "id": "ee887779-74c7-47f9-abb6-1a7265d80802",
   "metadata": {},
   "source": [
    "The following code restarts the Jupyter notebook kernel to clear the current environment. This is useful after installing or upgrading packages to ensure that all changes take effect properly"
   ]
  },
  {
   "cell_type": "code",
   "execution_count": null,
   "id": "b5d6e895-d8e6-47d5-b3fb-6b32aeac3991",
   "metadata": {
    "tags": []
   },
   "outputs": [],
   "source": [
    "from IPython.core.display import HTML\n",
    "from IPython.display import display\n",
    "\n",
    "try:\n",
    "    display(HTML(\"<script>Jupyter.notebook.kernel.restart()</script>\"))\n",
    "    print(\"✅ Kernel restarted successfully\")\n",
    "except Exception as e:\n",
    "    print(\"❌ Failed to restart the kernel\")\n",
    "    print(f\"Error: {e}\")"
   ]
  },
  {
   "cell_type": "markdown",
   "id": "9a9f698c-dfe0-48e3-a68b-4ec31bfd4489",
   "metadata": {},
   "source": [
    "### 3. Initialize the Bedrock Client"
   ]
  },
  {
   "cell_type": "markdown",
   "id": "3d5116e5-0d96-4e7c-9eab-406e304a4a7b",
   "metadata": {},
   "source": [
    "In this step, you create a Bedrock client using boto3, which allows you to interact with the Amazon Bedrock service by specifying the service name and an AWS region that supports it"
   ]
  },
  {
   "cell_type": "code",
   "execution_count": null,
   "id": "16a36183-ee99-4fe8-a655-a0f5ece1c9fa",
   "metadata": {
    "tags": []
   },
   "outputs": [],
   "source": [
    "import boto3\n",
    "\n",
    "print(\"----------------------------\")\n",
    "try:\n",
    "    client = boto3.client(\n",
    "        service_name=\"bedrock-runtime\",\n",
    "        region_name=\"us-east-1\"\n",
    "    )\n",
    "    print(\"✅ bedrock-runtime client initialized successfully.\")\n",
    "except Exception as e:\n",
    "    print(\"❌ Failed to initialize bedrock-runtime client.\")\n",
    "    print(f\"Error: {e}\")"
   ]
  },
  {
   "cell_type": "markdown",
   "id": "a1f32e0b-389e-4445-9dc0-70445944dae4",
   "metadata": {},
   "source": [
    "### 4. Load Privacy Statement Document from File"
   ]
  },
  {
   "cell_type": "markdown",
   "id": "e97c6b13-c212-4875-9544-af45b7dc4e3c",
   "metadata": {},
   "source": [
    "In this step, a sample privacy statement is loaded from a local file and stored in a variable. This content will be used throughout the exercise to simulate user queries and evaluate how the model responds to questions based on the document"
   ]
  },
  {
   "cell_type": "code",
   "execution_count": null,
   "id": "57d6f421-72a6-468c-b465-525e1f043039",
   "metadata": {
    "tags": []
   },
   "outputs": [],
   "source": [
    "def read_privacy_statement(file_path):\n",
    "    try:\n",
    "        with open(file_path, 'r', encoding='utf-8') as file:\n",
    "            print(\"✅ Privacy statement file loaded successfully.\")\n",
    "            return file.read()\n",
    "    except FileNotFoundError:\n",
    "        print(\"❌ File not found. Please check the file path.\")\n",
    "    except Exception as e:\n",
    "        print(\"❌ Failed to read privacy statement file.\")\n",
    "        print(f\"Error: {e}\")\n",
    "    return None  # return None if read fails\n",
    "\n",
    "privacy_text = read_privacy_statement('privacy_statement.txt')"
   ]
  },
  {
   "cell_type": "markdown",
   "id": "b336aa2a-6c8a-48fd-9b35-94a17ffcab5a",
   "metadata": {},
   "source": [
    "### 5. Load Instructions from File"
   ]
  },
  {
   "cell_type": "markdown",
   "id": "2e7eb9b7-1de1-4bf9-8325-b84aaa690bb6",
   "metadata": {},
   "source": [
    "To ensure cache checkpoints are created, the combined token count from the prompt and the response must exceed the 1024-token minimum required by the Claude 3 Sonnet model. To help with this, we’ll load clear and detailed instructions from an instructions.txt file, which will be used in the next steps to build an effective messages block"
   ]
  },
  {
   "cell_type": "code",
   "execution_count": null,
   "id": "1d143cda-5b0c-4116-bacd-06831694c0f6",
   "metadata": {},
   "outputs": [],
   "source": [
    "def read_instructions(file_path):\n",
    "    try:\n",
    "        with open(file_path, 'r', encoding='utf-8') as file:\n",
    "            print(\"✅ Instructions file loaded successfully.\")\n",
    "            return file.read()\n",
    "    except FileNotFoundError:\n",
    "        print(\"❌ File not found. Please check the file path.\")\n",
    "    except Exception as e:\n",
    "        print(\"❌ Failed to read instructions file.\")\n",
    "        print(f\"Error: {e}\")\n",
    "    return None  # return None if read fails\n",
    "\n",
    "instructions_text = read_instructions('instructions.txt')"
   ]
  },
  {
   "cell_type": "markdown",
   "id": "a8a4f071-c41a-4e39-933b-0748ae86e2ef",
   "metadata": {},
   "source": [
    "### 6. Define the Request Body for the Bedrock API"
   ]
  },
  {
   "cell_type": "markdown",
   "id": "da97d480-17b8-43ce-9b8a-9dbdbd9fc842",
   "metadata": {},
   "source": [
    "In this step, we define a user inquiry and build the request body for the Claude 3 Sonnet model. The body includes instructions from instructions.txt, the privacy statement from privacy_statement.txt, and the user’s question. The anthropic_version and max_tokens set the model version and token limit"
   ]
  },
  {
   "cell_type": "code",
   "execution_count": null,
   "id": "18d008a0-c5cf-41e3-994c-736e6eb1e093",
   "metadata": {
    "tags": []
   },
   "outputs": [],
   "source": [
    "user_inquiry = \"How you use my information?\"\n",
    "\n",
    "messages_API_body = {\n",
    "    \"anthropic_version\": \"bedrock-2023-05-31\",\n",
    "    \"max_tokens\": 4096,\n",
    "    \"messages\": [\n",
    "        {\n",
    "            \"role\": \"user\",\n",
    "            \"content\": [\n",
    "                {\n",
    "                    \"type\": \"text\",\n",
    "                    \"text\": instructions_text,\n",
    "                    \"cache_control\": {\n",
    "                        \"type\": \"ephemeral\"\n",
    "                    }\n",
    "                },\n",
    "                {\n",
    "                    \"type\": \"text\",\n",
    "                    \"text\": privacy_text,\n",
    "                    \"cache_control\": {\n",
    "                        \"type\": \"ephemeral\"\n",
    "                    }\n",
    "                },\n",
    "                {\n",
    "                    \"type\": \"text\",\n",
    "                    \"text\": user_inquiry\n",
    "                },\n",
    "            ]\n",
    "        }\n",
    "    ]\n",
    "    }\n",
    "print(\"✅ Message payload constructed successfully.\")"
   ]
  },
  {
   "cell_type": "markdown",
   "id": "7b2aa2f7-faba-4593-a95c-8c4b168412d6",
   "metadata": {},
   "source": [
    "### 7. Invoke the Model Using the Bedrock Client and Display Token Usage and Response"
   ]
  },
  {
   "cell_type": "markdown",
   "id": "d256df36-8399-4c45-97d9-3c631a775865",
   "metadata": {},
   "source": [
    "This step sends a request to Amazon Bedrock to invoke the Claude 3 Sonnet model with the request body and required headers. The model is invoked twice: the first call creates a cache entry, while the second call retrieves the response from the cache, resulting in a cache hit. Because the second call uses the cached response, it incurs lower costs as no new model inference is performed. You can see the difference by comparing the cache_creation_input_tokens and cache_read_input_tokens values printed after each call, along with the model’s responses"
   ]
  },
  {
   "cell_type": "code",
   "execution_count": null,
   "id": "d3e4e0f6-6426-4d8d-a556-e102c3553e3e",
   "metadata": {
    "tags": []
   },
   "outputs": [],
   "source": [
    "def invoke_and_print(client, body, model_id, label):\n",
    "    try:\n",
    "        response = client.invoke_model(\n",
    "            body=json.dumps(body),\n",
    "            modelId=model_id,\n",
    "            accept=\"application/json\",\n",
    "            contentType=\"application/json\"\n",
    "        )\n",
    "        print(f\"✅ {label} - Model invoked successfully.\")\n",
    "\n",
    "        response_body = json.loads(response.get(\"body\").read())\n",
    "        text = response_body[\"content\"][0][\"text\"]\n",
    "        creation_tokens = response_body[\"usage\"][\"cache_creation_input_tokens\"]\n",
    "        read_tokens = response_body[\"usage\"][\"cache_read_input_tokens\"]\n",
    "\n",
    "        print(text)\n",
    "        print(\"-------------------------------------------------\")\n",
    "        print(\"cache_creation_input_tokens:\", creation_tokens)\n",
    "        print(\"cache_read_input_tokens:\", read_tokens)\n",
    "        print(\"-------------------------------------------------\")\n",
    "    except Exception as e:\n",
    "        print(f\"❌ {label} - Failed to invoke model.\")\n",
    "        print(f\"Error: {e}\")\n",
    "\n",
    "invoke_and_print(client, messages_API_body, \"us.anthropic.claude-3-7-sonnet-20250219-v1:0\", \"First Execution\")\n",
    "invoke_and_print(client, messages_API_body, \"us.anthropic.claude-3-7-sonnet-20250219-v1:0\", \"Second Execution\")"
   ]
  }
 ],
 "metadata": {
  "kernelspec": {
   "display_name": "Python 3 (ipykernel)",
   "language": "python",
   "name": "python3"
  },
  "language_info": {
   "codemirror_mode": {
    "name": "ipython",
    "version": 3
   },
   "file_extension": ".py",
   "mimetype": "text/x-python",
   "name": "python",
   "nbconvert_exporter": "python",
   "pygments_lexer": "ipython3",
   "version": "3.13.3"
  },
  "toc": {
   "base_numbering": 0
  }
 },
 "nbformat": 4,
 "nbformat_minor": 5
}
